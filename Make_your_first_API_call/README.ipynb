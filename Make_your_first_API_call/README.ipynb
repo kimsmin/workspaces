{
 "cells": [
  {
   "attachments": {},
   "cell_type": "markdown",
   "metadata": {},
   "source": [
    "# Lab 1. Getting Started With Akamai API"
   ]
  },
  {
   "attachments": {},
   "cell_type": "markdown",
   "metadata": {},
   "source": [
    "## #Before You Start\n",
    "Commands on this document are executable. You can run them by clicking &nbsp; ![play](./img/play.png) &nbsp; button or by pressing <span style=\"color:cyan;font-weight:700\">Ctr+Alt+Enter</span>.\n",
    "<br/><br/>\n",
    "Watch this video and run the <span style=\"color:cyan;font-weight:700\">tree</span> command below. You can also clear the command outputs.\n",
    "\n",
    "<video width=\"50%\" height=\"50%\" controls autoplay>\n",
    "<source src=\"./img/labguide1.mp4\" type=\"video/mp4\">\n",
    "Your browser does not support the video tag.\n",
    "</video>"
   ]
  },
  {
   "cell_type": "code",
   "execution_count": null,
   "metadata": {
    "vscode": {
     "languageId": "shellscript"
    }
   },
   "outputs": [],
   "source": [
    "# Run this command.\n",
    "tree"
   ]
  },
  {
   "attachments": {},
   "cell_type": "markdown",
   "metadata": {},
   "source": [
    "## #Python\n",
    "<span style=\"color:cyan;font-weight:700\">Python</span> is a programming language that you can use to manage your Akamai services.\n",
    "1. Install the <span style=\"color:cyan;font-weight:700\">EdgeGrid authentication for Python</span> by running the following command."
   ]
  },
  {
   "cell_type": "code",
   "execution_count": null,
   "metadata": {
    "vscode": {
     "languageId": "shellscript"
    }
   },
   "outputs": [],
   "source": [
    "pip3 install edgegrid-python"
   ]
  },
  {
   "attachments": {},
   "cell_type": "markdown",
   "metadata": {},
   "source": [
    "\n",
    "2. Open <span style=\"color:cyan;font-weight:700\">first_api.py</span> and <span style=\"color:cyan;font-weight:700\">credential.txt</span> on the left **EXPLORE** view. They are in **learnakamai > workspaces > lab1** directory. \n",
    "<br/><br/>\n",
    "\n",
    "3. Edit <span style=\"color:cyan;font-weight:700\">first_api.py</span> with the following variables from <span style=\"color:cyan;font-weight:700\">credential.txt</span>.\n",
    "    - base\n",
    "    - client_secret\n",
    "    - access_token\n",
    "    - client_token\n",
    "<br/><br/>\n",
    "\n",
    "4. Save <span style=\"color:cyan;font-weight:700\">first_api.py</span>.\n",
    "<br/><br/>\n",
    "\n",
    "5. Run <span style=\"color:cyan;font-weight:700\">first_api.py</span>. You will see a response that shows your contract ID."
   ]
  },
  {
   "cell_type": "code",
   "execution_count": 1,
   "metadata": {
    "vscode": {
     "languageId": "shellscript"
    }
   },
   "outputs": [
    {
     "name": "stdout",
     "output_type": "stream",
     "text": [
      "200\n",
      "['V-41DUHPB']\n"
     ]
    }
   ],
   "source": [
    "python3 src/first_api.py"
   ]
  },
  {
   "attachments": {},
   "cell_type": "markdown",
   "metadata": {},
   "source": [
    "## #HTTPie\n",
    "<span style=\"color:cyan;font-weight:700\">HTTPie</span> is a simple command-line client you can use to make Akamai API calls.\n",
    "\n",
    "1. Install <span style=\"color:cyan;font-weight:700\">HTTPie</span> and upgrade it to the most recent version."
   ]
  },
  {
   "cell_type": "code",
   "execution_count": null,
   "metadata": {
    "vscode": {
     "languageId": "shellscript"
    }
   },
   "outputs": [],
   "source": [
    "pip3 install --upgrade httpie"
   ]
  },
  {
   "attachments": {},
   "cell_type": "markdown",
   "metadata": {},
   "source": [
    "2. Install <span style=\"color:cyan;font-weight:700\">httpie-edgegrid</span> plugin."
   ]
  },
  {
   "cell_type": "code",
   "execution_count": null,
   "metadata": {
    "vscode": {
     "languageId": "shellscript"
    }
   },
   "outputs": [],
   "source": [
    "pip3 install httpie-edgegrid"
   ]
  },
  {
   "attachments": {},
   "cell_type": "markdown",
   "metadata": {},
   "source": [
    "3. Verify the installation and check the version."
   ]
  },
  {
   "cell_type": "code",
   "execution_count": null,
   "metadata": {
    "vscode": {
     "languageId": "shellscript"
    }
   },
   "outputs": [],
   "source": [
    "pip3 show httpie-edgegrid"
   ]
  },
  {
   "attachments": {},
   "cell_type": "markdown",
   "metadata": {},
   "source": [
    "4. Create <span style=\"color:cyan;font-weight:700\">.edgerc</span> file in your home directory."
   ]
  },
  {
   "cell_type": "code",
   "execution_count": null,
   "metadata": {
    "vscode": {
     "languageId": "shellscript"
    }
   },
   "outputs": [],
   "source": [
    "cp credential.txt ~/.edgerc"
   ]
  },
  {
   "attachments": {},
   "cell_type": "markdown",
   "metadata": {},
   "source": [
    "5. Request the locations of servers in the Akamai network that can run the diagnostic tools. The <mark>200 OK response</mark> will show the location results."
   ]
  },
  {
   "cell_type": "code",
   "execution_count": null,
   "metadata": {
    "vscode": {
     "languageId": "shellscript"
    }
   },
   "outputs": [],
   "source": [
    "http --auth-type=edgegrid -a default: :/edge-diagnostics/v1/edge-locations"
   ]
  },
  {
   "attachments": {},
   "cell_type": "markdown",
   "metadata": {},
   "source": [
    "Here is a video demonstration of the process to make API calls with <span style=\"color:cyan;font-weight:700\">HTTPie</span>.\n",
    "\n",
    "<iframe width=\"512\" height=\"288\" src=\"https://www.youtube.com/embed/SQbeJgO_jD0\" title=\"Getting Started with Akamai APIs using HTTPie\" frameborder=\"0\" allow=\"accelerometer; autoplay; clipboard-write; encrypted-media; gyroscope; picture-in-picture; web-share\" allowfullscreen></iframe>"
   ]
  }
 ],
 "metadata": {
  "kernelspec": {
   "display_name": "Bash",
   "language": "bash",
   "name": "bash"
  },
  "language_info": {
   "codemirror_mode": "shell",
   "file_extension": ".sh",
   "mimetype": "text/x-sh",
   "name": "bash"
  },
  "orig_nbformat": 4
 },
 "nbformat": 4,
 "nbformat_minor": 2
}
