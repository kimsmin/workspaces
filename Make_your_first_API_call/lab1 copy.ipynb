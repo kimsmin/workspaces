{
 "cells": [
  {
   "attachments": {},
   "cell_type": "markdown",
   "metadata": {},
   "source": [
    "# Lab 1. Getting Started With Akamai API"
   ]
  },
  {
   "attachments": {},
   "cell_type": "markdown",
   "metadata": {},
   "source": [
    "## #Before You Start\n",
    "Commands on this document are executable. You can run them by clicking &nbsp; ![play](./img/play.png) &nbsp; button or by pressing <span style=\"color:cyan;font-weight:700\">Ctr+Alt+Enter</span>.\n",
    "<br/><br/>\n",
    "Watch this video and run the <span style=\"color:cyan;font-weight:700\">tree</span> command below. You can also clear the command outputs.\n",
    "<video width=\"50%\" height=\"50%\" controls autoplay>\n",
    "<source src=\"./img/labguide1.mp4\" type=\"video/mp4\">\n",
    "Your browser does not support the video tag.\n",
    "</video>"
   ]
  },
  {
   "cell_type": "code",
   "execution_count": null,
   "metadata": {
    "vscode": {
     "languageId": "shellscript"
    }
   },
   "outputs": [],
   "source": [
    "# Run this command.\n",
    "tree"
   ]
  },
  {
   "attachments": {},
   "cell_type": "markdown",
   "metadata": {},
   "source": [
    "## #Python\n",
    "1. Install the <span style=\"color:cyan;font-weight:700\">EdgeGrid authentication for Python</span> by running the following command."
   ]
  },
  {
   "cell_type": "code",
   "execution_count": null,
   "metadata": {
    "vscode": {
     "languageId": "shellscript"
    }
   },
   "outputs": [],
   "source": [
    "pip3 install edgegrid-python"
   ]
  },
  {
   "attachments": {},
   "cell_type": "markdown",
   "metadata": {},
   "source": [
    "\n",
    "2. Open <span style=\"color:cyan;font-weight:700\">first_api.py</span> and <span style=\"color:cyan;font-weight:700\">credential.txt</span> on the left **EXPLORE** view. They are in **learnakamai > workspaces > lab1** directory. \n",
    "<br/><br/>\n",
    "\n",
    "3. Edit <span style=\"color:cyan;font-weight:700\">first_api.py</span> with the following variables from <span style=\"color:cyan;font-weight:700\">credential.txt</span>.\n",
    "    - base\n",
    "    - client_secret\n",
    "    - access_token\n",
    "    - client_token\n",
    "<br/><br/>\n",
    "\n",
    "4. Save <span style=\"color:cyan;font-weight:700\">first_api.py</span>.\n",
    "<br/><br/>\n",
    "\n",
    "5. Run <span style=\"color:cyan;font-weight:700\">first_api.py</span>. You will see a response that shows your contract ID."
   ]
  },
  {
   "cell_type": "code",
   "execution_count": null,
   "metadata": {
    "vscode": {
     "languageId": "shellscript"
    }
   },
   "outputs": [],
   "source": [
    "python3 first_api.py"
   ]
  },
  {
   "attachments": {},
   "cell_type": "markdown",
   "metadata": {},
   "source": [
    "## #HTTPie\n",
    "<span style=\"color:cyan;font-weight:700\">HTTPie</span> is a simple command-line client you can use to make Akamai API calls.\n",
    "\n",
    "1. Install <span style=\"color:cyan;font-weight:700\">HTTPie</span> and upgrade it to the most recent version."
   ]
  },
  {
   "cell_type": "code",
   "execution_count": null,
   "metadata": {
    "vscode": {
     "languageId": "shellscript"
    }
   },
   "outputs": [],
   "source": [
    "pip3 install --upgrade httpie"
   ]
  },
  {
   "attachments": {},
   "cell_type": "markdown",
   "metadata": {},
   "source": [
    "2. Install <span style=\"color:cyan;font-weight:700\">httpie-edgegrid</span> plugin."
   ]
  },
  {
   "cell_type": "code",
   "execution_count": null,
   "metadata": {
    "vscode": {
     "languageId": "shellscript"
    }
   },
   "outputs": [],
   "source": [
    "pip3 install httpie-edgegrid"
   ]
  },
  {
   "attachments": {},
   "cell_type": "markdown",
   "metadata": {},
   "source": [
    "3. Verify the installation and check the version."
   ]
  },
  {
   "cell_type": "code",
   "execution_count": 15,
   "metadata": {
    "vscode": {
     "languageId": "shellscript"
    }
   },
   "outputs": [
    {
     "name": "stdout",
     "output_type": "stream",
     "text": [
      "Name: httpie-edgegrid\n",
      "Version: 2.1.1\n",
      "Summary: Edgegrid plugin for HTTPie.\n",
      "Home-page: https://github.com/akamai/httpie-edgegrid\n",
      "Author: Developer Experience Akamai\n",
      "Author-email: devrel@akamai.com\n",
      "License: Apache 2.0\n",
      "Location: /home/linuxbrew/.linuxbrew/opt/python@3.11/lib/python3.11/site-packages\n",
      "Requires: edgegrid-python, httpie, pyOpenSSL\n",
      "Required-by: \n"
     ]
    }
   ],
   "source": [
    "pip3 show httpie-edgegrid"
   ]
  },
  {
   "cell_type": "code",
   "execution_count": null,
   "metadata": {
    "vscode": {
     "languageId": "shellscript"
    }
   },
   "outputs": [],
   "source": [
    "export CID='ctr_V-41DUHPB'\n",
    "echo $CID\n",
    "export GID='grp_209786'\n",
    "echo $GID"
   ]
  },
  {
   "cell_type": "code",
   "execution_count": null,
   "metadata": {
    "vscode": {
     "languageId": "shellscript"
    }
   },
   "outputs": [],
   "source": [
    "akamai pm list-properties -c $CID -g $GID"
   ]
  },
  {
   "cell_type": "code",
   "execution_count": null,
   "metadata": {
    "vscode": {
     "languageId": "shellscript"
    }
   },
   "outputs": [],
   "source": [
    "akamai pm i -p test3.akamai-lab.com"
   ]
  },
  {
   "cell_type": "code",
   "execution_count": null,
   "metadata": {
    "vscode": {
     "languageId": "shellscript"
    }
   },
   "outputs": [],
   "source": [
    "tree"
   ]
  },
  {
   "cell_type": "code",
   "execution_count": null,
   "metadata": {
    "vscode": {
     "languageId": "shellscript"
    }
   },
   "outputs": [],
   "source": [
    "akamai pm cs -p test3.akamai-lab.com"
   ]
  },
  {
   "attachments": {},
   "cell_type": "markdown",
   "metadata": {},
   "source": [
    "## Step 1. Create API Authentication Credentials\n",
    "In order to use Akamai API, you need to first [Create authentication credentials](https://techdocs.akamai.com/developer/docs/set-up-authentication-credentials).\n",
    "\n",
    "## Option 2. Use "
   ]
  }
 ],
 "metadata": {
  "kernelspec": {
   "display_name": "Bash",
   "language": "bash",
   "name": "bash"
  },
  "language_info": {
   "codemirror_mode": "shell",
   "file_extension": ".sh",
   "mimetype": "text/x-sh",
   "name": "bash"
  },
  "orig_nbformat": 4
 },
 "nbformat": 4,
 "nbformat_minor": 2
}
