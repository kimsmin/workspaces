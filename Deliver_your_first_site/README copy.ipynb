{
 "cells": [
  {
   "attachments": {},
   "cell_type": "markdown",
   "metadata": {},
   "source": [
    "# Deliver your first site\n",
    "\n",
    "### Get started\n",
    "​Akamai​ helps deliver your sites and apps faster and more securely. Follow this workflow to deliver a basic site using Akamai.\n",
    "\n",
    "> <br/> **Brand-new to Akamai?**\n",
    "> <br/>Check out [Get to know ​Akamai](https://techdocs.akamai.com/platform-basics/docs/welcome)​ to understand how ​Akamai​ handles content delivery over the Internet.\n",
    "> <br/><br/>\n",
    "\n",
    "### Many ways to get the job done\n",
    "Every website delivery scenario is unique, so ​Akamai​ offers a wide range of tools and delivery methods. \n",
    "\n",
    "Here are the tools you can select. Click each tool to see overview.\n",
    "* [Control Center](https://techdocs.akamai.com/control-ctr/docs)\n",
    "* [API](https://techdocs.akamai.com/property-mgr/reference/api)\n",
    "* [​CLI](https://github.com/akamai/cli)\n",
    "\n",
    "### What's inside here\n",
    "In order to speed up your learning experience, we provide you with the following resources.\n",
    "* Origin web server\n",
    "* Control Center login credential\n",
    "* API credential\n",
    "* Workspace (What you are seeing)\n",
    "\n",
    "> <br/> **Note:** All resources are valid for **2 hours** only. Please complete your learning within that time window.\n",
    "> <br/><br/>\n",
    "\n",
    "### What you can expect when finished\n",
    "Your website will be accessible on the largest, globally distributed content delivery network (CDN). This brings your site physically closer to your customers, dramatically speeding up its delivery time.\n",
    "\n",
    "### What you will do\n",
    "Onboarding follows a phased approach. In this workflow, you will complete each phase using a tool you selects.\n",
    "\n",
    "<img width=\"70%\" src=\"img/onboarding-flow-v8.jpg\"/>\n",
    "<br/><br/><br/>\n",
    "\n",
    "1. **Get access.** We provide you with temporary account information so that you can access your contract, group, user, and API credential.\n",
    "\n",
    "2. **Get your certificate.** For requests between a client and the ​Akamai​ network, you'll first need to set up a certificate to secure that connection.\n",
    "\n",
    "3. **Ready your origin server.** Use ​the origin web server we provides.\n",
    "\n",
    "4. **Define your property.** Create a new property to configure how you want to deliver your content with rules and behaviors.\n",
    "\n",
    "5. **Test and go live.** We recommend that you test your property and then you can push it to production to start delivering your site through the ​Akamai​ network.\n",
    "\n",
    "> <br/> **Action:** Click the tool you want to use for this workflow.\n",
    "> <br/><br/>\n",
    "\n",
    "&nbsp;&nbsp;[Control Center]() | [CLI](documents/CLI.ipynb) | [API]()"
   ]
  }
 ],
 "metadata": {
  "kernelspec": {
   "display_name": "Bash",
   "language": "bash",
   "name": "bash"
  },
  "language_info": {
   "codemirror_mode": "shell",
   "file_extension": ".sh",
   "mimetype": "text/x-sh",
   "name": "bash"
  },
  "orig_nbformat": 4
 },
 "nbformat": 4,
 "nbformat_minor": 2
}
