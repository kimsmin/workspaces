{
 "cells": [
  {
   "attachments": {},
   "cell_type": "markdown",
   "metadata": {},
   "source": [
    "## Lab2. Set up your property.\n",
    "\n",
    "[akamai property cli-onboard](https://github.com/akamai/cli-onboard)"
   ]
  },
  {
   "cell_type": "code",
   "execution_count": 28,
   "metadata": {
    "vscode": {
     "languageId": "shellscript"
    }
   },
   "outputs": [
    {
     "name": "stdout",
     "output_type": "stream",
     "text": [
      "Your property name: 53206-acidic-fleet.akamai-lab.com\n",
      "Your CP code name: 53206-acidic-fleet\n",
      "Your hostname: 53206-acidic-fleet.akamai-lab.com\n",
      "Your edge hostname: 53206-acidic-fleet.akamai-lab.com.edgesuite.net\n"
     ]
    }
   ],
   "source": [
    "# set environment variables\n",
    "ctr_id=$(akamai pm lg -f json | jq -r .[0].contractIds[0])\n",
    "grp_id=$(akamai pm lg -f json | jq -r .[0].groupId)\n",
    "prd_id=$(akamai pm lp -c $ctr_id -f json | jq -r .[0].productId)\n",
    "\n",
    "prefix=$(python3 src/createName.py)\n",
    "p_name=$prefix'.akamai-lab.com'\n",
    "eh_name=$p_name'.edgesuite.net'\n",
    "\n",
    "c_secret=$(awk '/client_secret/ {print$3}' src/credential.txt | sort -u)\n",
    "host=$(awk '/host/ {print$3}' src/credential.txt | sort -u)\n",
    "a_token=$(awk '/access_token/ {print$3}' src/credential.txt | sort -u)\n",
    "c_token=$(awk '/client_token/ {print$3}' src/credential.txt | sort -u)\n",
    "\n",
    "echo 'Your property name:' $p_name\n",
    "echo 'Your CP code name:' $prefix\n",
    "echo 'Your hostname:' $p_name\n",
    "echo 'Your edge hostname:' $eh_name"
   ]
  },
  {
   "attachments": {},
   "cell_type": "markdown",
   "metadata": {},
   "source": [
    "Create your [CP code](https://techdocs.akamai.com/onboard/docs/set-up-identity-and-access-api#3-get-your-cp-codes)"
   ]
  },
  {
   "cell_type": "code",
   "execution_count": 30,
   "metadata": {
    "vscode": {
     "languageId": "shellscript"
    }
   },
   "outputs": [],
   "source": [
    "akamai pm create-cpcode -c $ctr_id -g $grp_id -d $prd_id -n $p_name -f json"
   ]
  },
  {
   "cell_type": "code",
   "execution_count": 31,
   "metadata": {
    "vscode": {
     "languageId": "shellscript"
    }
   },
   "outputs": [
    {
     "name": "stdout",
     "output_type": "stream",
     "text": [
      "1460175\n"
     ]
    }
   ],
   "source": [
    "cp_id=$(akamai pm list-cpcodes -c $ctr_id -g $grp_id -f json | jq  -r --arg name $p_name  '.[] | select(.cpcodeName == $name) | .cpcodeId' | cut -c 5-)\n",
    "echo $cp_id"
   ]
  },
  {
   "attachments": {},
   "cell_type": "markdown",
   "metadata": {},
   "source": [
    "Create a new property."
   ]
  },
  {
   "cell_type": "code",
   "execution_count": 29,
   "metadata": {
    "vscode": {
     "languageId": "shellscript"
    }
   },
   "outputs": [],
   "source": [
    "akamai property-manager new-property -c $ctr_id -g $grp_id -d $prd_id -p $p_name --insecure "
   ]
  },
  {
   "cell_type": "code",
   "execution_count": 32,
   "metadata": {
    "vscode": {
     "languageId": "shellscript"
    }
   },
   "outputs": [
    {
     "name": "stdout",
     "output_type": "stream",
     "text": [
      "╒══════════════════╤═══════════════╤════════════╤══════════════════════════════╤═════════════╤══════════════╤════════════════════╤════════════════╤═════════════════╕\n",
      "│\"Account Id\"      │\"Contract Id\"  │\"Group Id\"  │\"Property Name\"               │\"Property Id\"│\"Asset Id\"    │\"Production Version\"│\"Latest Version\"│\"Staging Version\"│\n",
      "╞══════════════════╪═══════════════╪════════════╪══════════════════════════════╪═════════════╪══════════════╪════════════════════╪════════════════╪═════════════════╡\n",
      "│\"act_F-AC-4917414\"│\"ctr_V-41DUHPB\"│\"grp_232865\"│\"20230403123732.akamai-lab.com│\"prp_907470\" │\"aid_11149225\"│null                │1               │1                │\n",
      "│                  │               │            │\"                             │             │              │                    │                │                 │\n",
      "├──────────────────┼───────────────┼────────────┼──────────────────────────────┼─────────────┼──────────────┼────────────────────┼────────────────┼─────────────────┤\n",
      "│\"act_F-AC-4917414\"│\"ctr_V-41DUHPB\"│\"grp_232865\"│\"lab001.akamai-lab.com\"       │\"prp_906976\" │\"aid_11148396\"│null                │2               │2                │\n",
      "├──────────────────┼───────────────┼────────────┼──────────────────────────────┼─────────────┼──────────────┼────────────────────┼────────────────┼─────────────────┤\n",
      "│\"act_F-AC-4917414\"│\"ctr_V-41DUHPB\"│\"grp_232865\"│\"53206-acidic-fleet.akamai-lab│\"prp_907850\" │\"aid_11149677\"│null                │1               │null             │\n",
      "│                  │               │            │.com\"                         │             │              │                    │                │                 │\n",
      "├──────────────────┼───────────────┼────────────┼──────────────────────────────┼─────────────┼──────────────┼────────────────────┼────────────────┼─────────────────┤\n",
      "│\"act_F-AC-4917414\"│\"ctr_V-41DUHPB\"│\"grp_232865\"│\"301500-nutritious-spire\"     │\"prp_907840\" │\"aid_11149665\"│null                │1               │null             │\n",
      "└──────────────────┴───────────────┴────────────┴──────────────────────────────┴─────────────┴──────────────┴────────────────────┴────────────────┴─────────────────┘\n"
     ]
    }
   ],
   "source": [
    "akamai pm lpr -c $ctr_id -g $grp_id"
   ]
  },
  {
   "attachments": {},
   "cell_type": "markdown",
   "metadata": {},
   "source": [
    "Update main.json and Augmented_insights.json\n",
    "\n",
    "Edit **main.json** in *workspaces > lab2 > $p_name > config-snippets*.\n",
    "\n",
    "Update \"hostname\": \"origin-XXXX\" to your origin hostname. For example, \"origin--main--20230405030614--a.b.akamai-lab.com\"\n",
    "\n",
    "Change \"forwardHostHeader\": *\"REQUEST_HOST_HEADER\"* to \"forwardHostHeader\": *\"ORIGIN_HOSTNAME\"*\n",
    "\n",
    "**screencast placeholder**"
   ]
  },
  {
   "attachments": {},
   "cell_type": "markdown",
   "metadata": {},
   "source": [
    "Edit **Augment_insights.json** in *workspaces > lab2 > test001 > config-snippets* directory.\n",
    "\n",
    "Update \"cpCode\",\n",
    "        \"options\":{}\n",
    "        \n",
    "to\n",
    "        \n",
    "          \"options\": {\n",
    "            \"value\": {\n",
    "              \"id\": $cp_id\n",
    "            }\n",
    "          }"
   ]
  },
  {
   "attachments": {},
   "cell_type": "markdown",
   "metadata": {},
   "source": [
    "main.json - origin hostname\n",
    "\n",
    "Augmented_insights.json - cp code\n",
    "{\n",
    "    \"name\": \"cpCode\",\n",
    "    \"options\": {}\n",
    "}\n",
    "\n",
    "{\n",
    "                \"name\": \"cpCode\",\n",
    "                \"options\": {\n",
    "                    \"value\": {\n",
    "                        \"id\": 1459812,\n",
    "                        \"name\": \"\"\n",
    "                    }\n",
    "                }\n",
    "            }"
   ]
  },
  {
   "cell_type": "code",
   "execution_count": 35,
   "metadata": {
    "vscode": {
     "languageId": "shellscript"
    }
   },
   "outputs": [
    {
     "name": "stdout",
     "output_type": "stream",
     "text": [
      "╒════════════════════════╤════════╕\n",
      "│\"Action\"                │\"Result\"│\n",
      "╞════════════════════════╪════════╡\n",
      "│\"stored rule tree\"      │\"yes\"   │\n",
      "├────────────────────────┼────────┤\n",
      "│\"edge hostnames created\"│\"no\"    │\n",
      "├────────────────────────┼────────┤\n",
      "│\"stored hostnames\"      │\"no\"    │\n",
      "├────────────────────────┼────────┤\n",
      "│\"validation warnings\"   │\"yes\"   │\n",
      "├────────────────────────┼────────┤\n",
      "│\"validation errors\"     │\"no\"    │\n",
      "├────────────────────────┼────────┤\n",
      "│\"hostname warnings\"     │\"no\"    │\n",
      "├────────────────────────┼────────┤\n",
      "│\"hostname errors\"       │\"no\"    │\n",
      "└────────────────────────┴────────┘\n",
      "There are validation warnings: \n",
      " [\n",
      "    {\n",
      "        \"type\": \"https://problems.luna.akamaiapis.net/papi/v0/validation/validation_message.general_warning\",\n",
      "        \"errorLocation\": {\n",
      "            \"template\": \"config-snippets/Augment_insights.json\",\n",
      "            \"variables\": [],\n",
      "            \"location\": \"children/2/criteria/0\",\n",
      "            \"value\": {\n",
      "                \"name\": \"requestType\",\n",
      "                \"options\": {\n",
      "                    \"matchOperator\": \"IS\",\n",
      "                    \"value\": \"CLIENT_REQ\"\n",
      "                }\n",
      "            }\n",
      "        },\n",
      "        \"detail\": \"Matching on `Request Type` requires thorough understanding of the way Akamai Edge servers process requests.  If you are unsure about how this will affect your property, please contact your Akamai Technical representative, and please test thoroughly on staging before activating on production.\"\n",
      "    },\n",
      "    {\n",
      "        \"type\": \"https://problems.luna.akamaiapis.net/papi/v0/validation/need_feature\",\n",
      "        \"errorLocation\": {\n",
      "            \"template\": \"config-snippets/Strengthen_security.json\",\n",
      "            \"variables\": [],\n",
      "            \"location\": \"children/3/behaviors/0\",\n",
      "            \"value\": {\n",
      "                \"name\": \"httpStrictTransportSecurity\",\n",
      "                \"options\": {\n",
      "                    \"enable\": false\n",
      "                }\n",
      "            }\n",
      "        },\n",
      "        \"detail\": \"Enabling preload makes future downgrade to HTTP difficult.\"\n",
      "    }\n",
      "]\n"
     ]
    }
   ],
   "source": [
    "# create edge hostname, add property hostname\n",
    "akamai pm save -p $p_name"
   ]
  },
  {
   "cell_type": "code",
   "execution_count": 36,
   "metadata": {
    "vscode": {
     "languageId": "shellscript"
    }
   },
   "outputs": [
    {
     "name": "stdout",
     "output_type": "stream",
     "text": [
      "Following activations are now pending:\n",
      "╒══════════════════════════════╤═════════╤═══════════════╕\n",
      "│\"Property\"                    │\"Network\"│\"Activation Id\"│\n",
      "╞══════════════════════════════╪═════════╪═══════════════╡\n",
      "│\"53206-acidic-fleet.akamai-lab│\"STAGING\"│12930306       │\n",
      "│.com\"                         │         │               │\n",
      "└──────────────────────────────┴─────────┴───────────────┘\n",
      "...activation status is PENDING...\n",
      "...Waiting for active status...\n",
      "...Checking activations...\n",
      "...activation status is PENDING...\n",
      "...Waiting for active status...\n",
      "...Checking activations...\n",
      "...activation status is PENDING...\n",
      "...Waiting for active status...\n",
      "...Checking activations...\n",
      "186.315 seconds since command ran\n",
      "Activation status report:\n",
      "╒═══════════════════════════════════╤═════════╤═══════════════╤════════╕\n",
      "│\"Property\"                         │\"Network\"│\"Activation Id\"│\"Status\"│\n",
      "╞═══════════════════════════════════╪═════════╪═══════════════╪════════╡\n",
      "│\"53206-acidic-fleet.akamai-lab.com\"│\"STAGING\"│\"atv_12930306\" │\"ACTIVE\"│\n",
      "└───────────────────────────────────┴─────────┴───────────────┴────────┘\n"
     ]
    }
   ],
   "source": [
    "# Activate property. This can take a couple of minutes.\n",
    "akamai pm activate -p $p_name -m 'first version' -n staging -w"
   ]
  },
  {
   "attachments": {},
   "cell_type": "markdown",
   "metadata": {},
   "source": [
    "Visit [your website](http://53206-acidic-fleet.akamai-lab.com), which is akamaized on Akamai staging network."
   ]
  },
  {
   "attachments": {},
   "cell_type": "markdown",
   "metadata": {},
   "source": [
    "screencast placeholder"
   ]
  },
  {
   "cell_type": "markdown",
   "metadata": {},
   "source": []
  },
  {
   "attachments": {},
   "cell_type": "markdown",
   "metadata": {},
   "source": [
    "Edit **Augment_insights.json** in *workspaces > lab2 > test001 > config-snippets* directory.\n",
    "\n",
    "Update \"cpCode\",\n",
    "        \"options\":{}\n",
    "        \n",
    "to\n",
    "        \n",
    "          \"options\": {\n",
    "            \"value\": {\n",
    "              \"name\": \"test001\",\n",
    "            }\n",
    "          }"
   ]
  },
  {
   "attachments": {},
   "cell_type": "markdown",
   "metadata": {},
   "source": [
    "screencast placeholder"
   ]
  }
 ],
 "metadata": {
  "kernelspec": {
   "display_name": "Bash",
   "language": "bash",
   "name": "bash"
  },
  "language_info": {
   "codemirror_mode": "shell",
   "file_extension": ".sh",
   "mimetype": "text/x-sh",
   "name": "bash"
  },
  "orig_nbformat": 4
 },
 "nbformat": 4,
 "nbformat_minor": 2
}
