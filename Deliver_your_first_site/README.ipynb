{
 "cells": [
  {
   "attachments": {},
   "cell_type": "markdown",
   "metadata": {},
   "source": [
    "# Deliver your first site\n",
    "\n",
    "### Get started\n",
    "​Akamai​ helps deliver your sites and apps faster and more securely. Follow this workflow to deliver a basic site using Akamai.\n",
    "\n",
    "> <br/> **Brand-new to Akamai?**\n",
    "> <br/>Check out [Get to know ​Akamai](https://techdocs.akamai.com/platform-basics/docs/welcome)​ to understand how ​Akamai​ handles content delivery over the Internet.\n",
    "> <br/><br/>\n",
    "\n",
    "### Many ways to get the job done\n",
    "Every website delivery scenario is unique, so ​Akamai​ offers a wide range of tools and delivery methods. \n",
    "\n",
    "Here are the tools you can select. Click each tool to see overview.\n",
    "* [Control Center](https://techdocs.akamai.com/control-ctr/docs)\n",
    "* [API](https://techdocs.akamai.com/property-mgr/reference/api)\n",
    "* [​CLI](https://github.com/akamai/cli)\n",
    "\n",
    "### What's inside here\n",
    "In order to speed up your learning experience, we provide you with the following resources.\n",
    "* Origin web server\n",
    "* Control Center login credential\n",
    "* API credential\n",
    "* Workspace (What you are seeing)\n",
    "\n",
    "> <br/> **Note:** All resources are valid for **2 hours** only. Please complete your learning within that time window.\n",
    "> <br/><br/>\n",
    "\n",
    "### What you can expect when finished\n",
    "Your website will be accessible on the largest, globally distributed content delivery network (CDN). This brings your site physically closer to your customers, dramatically speeding up its delivery time.\n",
    "\n",
    "### What you will do\n",
    "Onboarding follows a phased approach. In this workflow, you will complete each phase using a tool you selects.\n",
    "\n",
    "<img width=\"70%\" src=\"img/onboarding-flow-v8.jpg\"/>\n",
    "<br/><br/><br/>\n",
    "\n",
    "1. **Get access.** We provide you with temporary account information so that you can access your contract, group, user, and API credential.\n",
    "\n",
    "2. **Get your certificate.** For requests between a client and the ​Akamai​ network, you'll first need to set up a certificate to secure that connection.\n",
    "\n",
    "3. **Ready your origin server.** Use ​the origin web server we provides.\n",
    "\n",
    "4. **Define your property.** Create a new property to configure how you want to deliver your content with rules and behaviors.\n",
    "\n",
    "5. **Test and go live.** We recommend that you test your property and then you can push it to production to start delivering your site through the ​Akamai​ network.\n",
    "\n",
    "> <br/> **Action:** Click the tool you want to use for this workflow.\n",
    "> <br/><br/>\n",
    "\n",
    "&nbsp;&nbsp;[Control Center]() | [CLI]() | [API]()"
   ]
  },
  {
   "cell_type": "code",
   "execution_count": 4,
   "metadata": {
    "vscode": {
     "languageId": "shellscript"
    }
   },
   "outputs": [
    {
     "name": "stdout",
     "output_type": "stream",
     "text": [
      "Your property name: 894710-charcoal-availability.akamai-lab.com\n",
      "Your CP code name: 894710-charcoal-availability\n",
      "Your hostname: 894710-charcoal-availability.akamai-lab.com\n",
      "Your edge hostname: 894710-charcoal-availability.akamai-lab.com.edgesuite.net\n"
     ]
    }
   ],
   "source": [
    "# set environment variables\n",
    "ctr_id=$(akamai pm lg -f json | jq -r .[0].contractIds[0])\n",
    "grp_id=$(akamai pm lg -f json | jq -r .[0].groupId)\n",
    "\n",
    "# if you know produtId, export it directly.\n",
    "# prd_id='prd_Fresca'\n",
    "# if you don't know productId, run this. \n",
    "prd_id=$(akamai pm lp -c $ctr_id -f json | jq -r .[0].productId)\n",
    "\n",
    "prefix=$(python3 src/createName.py)\n",
    "p_name=$prefix'.akamai-lab.com'\n",
    "eh_name=$p_name'.edgesuite.net'\n",
    "\n",
    "c_secret=$(awk '/client_secret/ {print$3}' credential.txt | sort -u)\n",
    "host=$(awk '/host/ {print$3}' credential.txt | sort -u)\n",
    "a_token=$(awk '/access_token/ {print$3}' credential.txt | sort -u)\n",
    "c_token=$(awk '/client_token/ {print$3}' credential.txt | sort -u)\n",
    "\n",
    "echo 'Your property name:' $p_name\n",
    "echo 'Your CP code name:' $prefix\n",
    "echo 'Your hostname:' $p_name\n",
    "echo 'Your edge hostname:' $eh_name"
   ]
  },
  {
   "cell_type": "code",
   "execution_count": 7,
   "metadata": {
    "vscode": {
     "languageId": "shellscript"
    }
   },
   "outputs": [
    {
     "name": "stdout",
     "output_type": "stream",
     "text": [
      "[\n",
      "    {\n",
      "        \"productName\": \"Fresca\",\n",
      "        \"productId\": \"prd_Fresca\"\n",
      "    }\n",
      "]\n"
     ]
    }
   ],
   "source": [
    "akamai pm lp -c $ctr_id -f json"
   ]
  },
  {
   "attachments": {},
   "cell_type": "markdown",
   "metadata": {},
   "source": [
    "Create your [CP code](https://techdocs.akamai.com/onboard/docs/set-up-identity-and-access-api#3-get-your-cp-codes)"
   ]
  },
  {
   "cell_type": "code",
   "execution_count": 5,
   "metadata": {
    "vscode": {
     "languageId": "shellscript"
    }
   },
   "outputs": [],
   "source": [
    "akamai pm create-cpcode -c $ctr_id -g $grp_id -d $prd_id -n $p_name -f json"
   ]
  },
  {
   "cell_type": "code",
   "execution_count": 6,
   "metadata": {
    "vscode": {
     "languageId": "shellscript"
    }
   },
   "outputs": [
    {
     "name": "stdout",
     "output_type": "stream",
     "text": [
      "1462526\n"
     ]
    }
   ],
   "source": [
    "cp_id=$(akamai pm list-cpcodes -c $ctr_id -g $grp_id -f json | jq  -r --arg name $p_name  '.[] | select(.cpcodeName == $name) | .cpcodeId' | cut -c 5-)\n",
    "echo $cp_id"
   ]
  },
  {
   "attachments": {},
   "cell_type": "markdown",
   "metadata": {},
   "source": [
    "Create a new property."
   ]
  },
  {
   "cell_type": "code",
   "execution_count": 8,
   "metadata": {
    "vscode": {
     "languageId": "shellscript"
    }
   },
   "outputs": [],
   "source": [
    "akamai property-manager new-property -c $ctr_id -g $grp_id -d $prd_id -p $p_name --insecure "
   ]
  },
  {
   "cell_type": "code",
   "execution_count": 9,
   "metadata": {
    "vscode": {
     "languageId": "shellscript"
    }
   },
   "outputs": [
    {
     "name": "stdout",
     "output_type": "stream",
     "text": [
      "╒══════════════════╤═══════════════╤════════════╤══════════════════════════════╤═════════════╤══════════════╤════════════════════╤════════════════╤═════════════════╕\n",
      "│\"Account Id\"      │\"Contract Id\"  │\"Group Id\"  │\"Property Name\"               │\"Property Id\"│\"Asset Id\"    │\"Production Version\"│\"Latest Version\"│\"Staging Version\"│\n",
      "╞══════════════════╪═══════════════╪════════════╪══════════════════════════════╪═════════════╪══════════════╪════════════════════╪════════════════╪═════════════════╡\n",
      "│\"act_F-AC-4917414\"│\"ctr_V-41DUHPB\"│\"grp_232865\"│\"20230403123732.akamai-lab.com│\"prp_907470\" │\"aid_11149225\"│null                │1               │1                │\n",
      "│                  │               │            │\"                             │             │              │                    │                │                 │\n",
      "├──────────────────┼───────────────┼────────────┼──────────────────────────────┼─────────────┼──────────────┼────────────────────┼────────────────┼─────────────────┤\n",
      "│\"act_F-AC-4917414\"│\"ctr_V-41DUHPB\"│\"grp_232865\"│\"lab001.akamai-lab.com\"       │\"prp_906976\" │\"aid_11148396\"│null                │2               │2                │\n",
      "├──────────────────┼───────────────┼────────────┼──────────────────────────────┼─────────────┼──────────────┼────────────────────┼────────────────┼─────────────────┤\n",
      "│\"act_F-AC-4917414\"│\"ctr_V-41DUHPB\"│\"grp_232865\"│\"53206-acidic-fleet.akamai-lab│\"prp_907850\" │\"aid_11149677\"│null                │2               │2                │\n",
      "│                  │               │            │.com\"                         │             │              │                    │                │                 │\n",
      "├──────────────────┼───────────────┼────────────┼──────────────────────────────┼─────────────┼──────────────┼────────────────────┼────────────────┼─────────────────┤\n",
      "│\"act_F-AC-4917414\"│\"ctr_V-41DUHPB\"│\"grp_232865\"│\"onboard.akamai-lab.com\"      │\"prp_910211\" │\"aid_11152592\"│null                │1               │1                │\n",
      "├──────────────────┼───────────────┼────────────┼──────────────────────────────┼─────────────┼──────────────┼────────────────────┼────────────────┼─────────────────┤\n",
      "│\"act_F-AC-4917414\"│\"ctr_V-41DUHPB\"│\"grp_232865\"│\"894710-charcoal-availability.│\"prp_910420\" │\"aid_11152880\"│null                │1               │null             │\n",
      "│                  │               │            │akamai-lab.com\"               │             │              │                    │                │                 │\n",
      "├──────────────────┼───────────────┼────────────┼──────────────────────────────┼─────────────┼──────────────┼────────────────────┼────────────────┼─────────────────┤\n",
      "│\"act_F-AC-4917414\"│\"ctr_V-41DUHPB\"│\"grp_232865\"│\"301500-nutritious-spire\"     │\"prp_907840\" │\"aid_11149665\"│null                │1               │null             │\n",
      "└──────────────────┴───────────────┴────────────┴──────────────────────────────┴─────────────┴──────────────┴────────────────────┴────────────────┴─────────────────┘\n"
     ]
    }
   ],
   "source": [
    "akamai pm lpr -c $ctr_id -g $grp_id"
   ]
  },
  {
   "attachments": {},
   "cell_type": "markdown",
   "metadata": {},
   "source": [
    "Update main.json and Augmented_insights.json\n",
    "\n",
    "Edit **main.json** in *workspaces > lab2 > $p_name > config-snippets*.\n",
    "\n",
    "Update \"hostname\": \"origin-XXXX\" to your origin hostname. For example, \"origin--main--20230405030614--a.b.akamai-lab.com\"\n",
    "\n",
    "Change \"forwardHostHeader\": *\"REQUEST_HOST_HEADER\"* to \"forwardHostHeader\": *\"ORIGIN_HOSTNAME\"*\n",
    "\n",
    "**screencast placeholder**"
   ]
  },
  {
   "attachments": {},
   "cell_type": "markdown",
   "metadata": {},
   "source": [
    "Edit **Augment_insights.json** in *workspaces > lab2 > test001 > config-snippets* directory.\n",
    "\n",
    "Update \"cpCode\",\n",
    "        \"options\":{}\n",
    "        \n",
    "to\n",
    "        \n",
    "          \"options\": {\n",
    "            \"value\": {\n",
    "              \"id\": $cp_id\n",
    "            }\n",
    "          }"
   ]
  },
  {
   "attachments": {},
   "cell_type": "markdown",
   "metadata": {},
   "source": [
    "main.json - origin hostname\n",
    "\n",
    "Augmented_insights.json - cp code\n",
    "{\n",
    "    \"name\": \"cpCode\",\n",
    "    \"options\": {}\n",
    "}\n",
    "\n",
    "{\n",
    "                \"name\": \"cpCode\",\n",
    "                \"options\": {\n",
    "                    \"value\": {\n",
    "                        \"id\": 1459812,\n",
    "                        \"name\": \"\"\n",
    "                    }\n",
    "                }\n",
    "            }"
   ]
  },
  {
   "cell_type": "code",
   "execution_count": 11,
   "metadata": {
    "vscode": {
     "languageId": "shellscript"
    }
   },
   "outputs": [
    {
     "name": "stdout",
     "output_type": "stream",
     "text": [
      "╒════════════════════════╤════════╕\n",
      "│\"Action\"                │\"Result\"│\n",
      "╞════════════════════════╪════════╡\n",
      "│\"stored rule tree\"      │\"yes\"   │\n",
      "├────────────────────────┼────────┤\n",
      "│\"edge hostnames created\"│\"yes\"   │\n",
      "├────────────────────────┼────────┤\n",
      "│\"stored hostnames\"      │\"yes\"   │\n",
      "├────────────────────────┼────────┤\n",
      "│\"validation warnings\"   │\"yes\"   │\n",
      "├────────────────────────┼────────┤\n",
      "│\"validation errors\"     │\"no\"    │\n",
      "├────────────────────────┼────────┤\n",
      "│\"hostname warnings\"     │\"no\"    │\n",
      "├────────────────────────┼────────┤\n",
      "│\"hostname errors\"       │\"no\"    │\n",
      "└────────────────────────┴────────┘\n",
      "There are validation warnings: \n",
      " [\n",
      "    {\n",
      "        \"type\": \"https://problems.luna.akamaiapis.net/papi/v0/validation/validation_message.general_warning\",\n",
      "        \"errorLocation\": {\n",
      "            \"template\": \"config-snippets/Augment_insights.json\",\n",
      "            \"variables\": [],\n",
      "            \"location\": \"children/2/criteria/0\",\n",
      "            \"value\": {\n",
      "                \"name\": \"requestType\",\n",
      "                \"options\": {\n",
      "                    \"matchOperator\": \"IS\",\n",
      "                    \"value\": \"CLIENT_REQ\"\n",
      "                }\n",
      "            }\n",
      "        },\n",
      "        \"detail\": \"Matching on `Request Type` requires thorough understanding of the way Akamai Edge servers process requests.  If you are unsure about how this will affect your property, please contact your Akamai Technical representative, and please test thoroughly on staging before activating on production.\"\n",
      "    },\n",
      "    {\n",
      "        \"type\": \"https://problems.luna.akamaiapis.net/papi/v0/validation/need_feature\",\n",
      "        \"errorLocation\": {\n",
      "            \"template\": \"config-snippets/Strengthen_security.json\",\n",
      "            \"variables\": [],\n",
      "            \"location\": \"children/3/behaviors/0\",\n",
      "            \"value\": {\n",
      "                \"name\": \"httpStrictTransportSecurity\",\n",
      "                \"options\": {\n",
      "                    \"enable\": false\n",
      "                }\n",
      "            }\n",
      "        },\n",
      "        \"detail\": \"Enabling preload makes future downgrade to HTTP difficult.\"\n",
      "    }\n",
      "]\n"
     ]
    }
   ],
   "source": [
    "# create edge hostname, add property hostname\n",
    "akamai pm save -p $p_name"
   ]
  },
  {
   "cell_type": "code",
   "execution_count": 12,
   "metadata": {
    "vscode": {
     "languageId": "shellscript"
    }
   },
   "outputs": [
    {
     "name": "stdout",
     "output_type": "stream",
     "text": [
      "Following activations are now pending:\n",
      "╒══════════════════════════════╤═════════╤═══════════════╕\n",
      "│\"Property\"                    │\"Network\"│\"Activation Id\"│\n",
      "╞══════════════════════════════╪═════════╪═══════════════╡\n",
      "│\"894710-charcoal-availability.│\"STAGING\"│12957889       │\n",
      "│akamai-lab.com\"               │         │               │\n",
      "└──────────────────────────────┴─────────┴───────────────┘\n",
      "...activation status is PENDING...\n",
      "...Waiting for active status...\n",
      "...Checking activations...\n",
      "...activation status is PENDING...\n",
      "...Waiting for active status...\n",
      "...Checking activations...\n",
      "...activation status is PENDING...\n",
      "...Waiting for active status...\n",
      "...Checking activations...\n",
      "185.202 seconds since command ran\n",
      "Activation status report:\n",
      "╒════════════════════════════════════════╤═════════╤═══════════════╤════════╕\n",
      "│\"Property\"                              │\"Network\"│\"Activation Id\"│\"Status\"│\n",
      "╞════════════════════════════════════════╪═════════╪═══════════════╪════════╡\n",
      "│\"894710-charcoal-availability.akamai-lab│\"STAGING\"│\"atv_12957889\" │\"ACTIVE\"│\n",
      "│.com\"                                   │         │               │        │\n",
      "└────────────────────────────────────────┴─────────┴───────────────┴────────┘\n"
     ]
    }
   ],
   "source": [
    "# Activate property. This can take a couple of minutes.\n",
    "akamai pm activate -p $p_name -m 'first version' -n staging -w"
   ]
  },
  {
   "attachments": {},
   "cell_type": "markdown",
   "metadata": {},
   "source": [
    "Your site is akamaized on Akamai staging network. Visit [http://$p_name](http://894710-charcoal-availability.akamai-lab.com), which is akamaized on Akamai staging network."
   ]
  },
  {
   "attachments": {},
   "cell_type": "markdown",
   "metadata": {},
   "source": [
    "screencast placeholder"
   ]
  },
  {
   "cell_type": "markdown",
   "metadata": {},
   "source": []
  },
  {
   "attachments": {},
   "cell_type": "markdown",
   "metadata": {},
   "source": [
    "Edit **Augment_insights.json** in *workspaces > lab2 > test001 > config-snippets* directory.\n",
    "\n",
    "Update \"cpCode\",\n",
    "        \"options\":{}\n",
    "        \n",
    "to\n",
    "        \n",
    "          \"options\": {\n",
    "            \"value\": {\n",
    "              \"name\": \"test001\",\n",
    "            }\n",
    "          }"
   ]
  },
  {
   "attachments": {},
   "cell_type": "markdown",
   "metadata": {},
   "source": [
    "screencast placeholder"
   ]
  }
 ],
 "metadata": {
  "kernelspec": {
   "display_name": "Bash",
   "language": "bash",
   "name": "bash"
  },
  "language_info": {
   "codemirror_mode": "shell",
   "file_extension": ".sh",
   "mimetype": "text/x-sh",
   "name": "bash"
  },
  "orig_nbformat": 4
 },
 "nbformat": 4,
 "nbformat_minor": 2
}
