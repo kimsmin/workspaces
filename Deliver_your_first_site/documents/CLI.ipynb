{
 "cells": [
  {
   "attachments": {},
   "cell_type": "markdown",
   "metadata": {},
   "source": [
    "# **Onboard your web site using CLI**\n",
    "[Akamai CLI](https://github.com/akamai/cli) is pre-installed with the following packages on this workspace.\n",
    "* [property-manager](https://github.com/akamai/cli-property-manager)\n",
    "* [onboard](https://github.com/akamai/cli-onboard)\n",
    "\n",
    "### **1. Get access.**  \n",
    "\n",
    "**1.1. Find your account information.**\n",
    "\n",
    "We provided you with temporary account information when you started this learning course at [Learn Akamai](https://training.akamai.com).\n",
    "<br/><br>\n",
    "<video width=\"60%\" controls>\n",
    "    <source src=\"../img/1_1.mp4\" type=\"video/mp4\">\n",
    "Your browser does not support the video tag.\n",
    "</video>\n",
    "<br/><br/>\n",
    "\n",
    "**1.2. Update credential.txt file.**\n",
    "\n",
    "Open <mark>credential.txt</mark> file in *WORKSPACES > Deliver_your_first_site* folder.\n",
    "<br/><br>\n",
    "*screenshot placeholder*\n",
    "<br/><br/>\n",
    "Copy and paste your API credential as shown below.\n",
    "<br/><br>\n",
    "*screenshot placeholder*\n",
    "<br/><br/>\n",
    "Run the following command. It will copy the credential.txt to your home directory, and rename it to .<mark>edgerc</mark>."
   ]
  },
  {
   "cell_type": "code",
   "execution_count": null,
   "metadata": {
    "vscode": {
     "languageId": "shellscript"
    }
   },
   "outputs": [],
   "source": [
    "# Click the play button on the left, or enter Ctrl+Alt+Enter.\n",
    "cp ../credential.txt ~/.edgerc\n",
    "cat ~/.edgerc"
   ]
  },
  {
   "cell_type": "markdown",
   "metadata": {},
   "source": [
    "\n",
    "**1.3. Verify your account information.**\n",
    "\n",
    "Run the following command. If you can see your Contract ID on the outputs, you are good to go."
   ]
  },
  {
   "cell_type": "code",
   "execution_count": null,
   "metadata": {
    "vscode": {
     "languageId": "shellscript"
    }
   },
   "outputs": [],
   "source": [
    "# Click the play button on the left, or enter Ctrl+Alt+Enter.\n",
    "akamai property-manager list-contracts"
   ]
  },
  {
   "attachments": {},
   "cell_type": "markdown",
   "metadata": {},
   "source": [
    "### **2. Get your certificate.** \n",
    "\n",
    "We will skip this phase for simplicity. Your web site will support HTTP only. If you want to learn more on getting certificates via CLI, visit [akamai cli-cps](https://github.com/akamai/cli-cps).\n",
    "\n",
    "### **3. Ready your origin server.** \n",
    "\n",
    "Open a new browser tab and copy and paste your origin web server URL.\n",
    "\n",
    "<br/><br/>\n",
    "*screenshot placeholder*\n",
    "<br/><br/>\n",
    "\n",
    "### **4. Define your property.** \n",
    "\n",
    "**4.1. Create an [edge hostname](https://techdocs.akamai.com/edge-hostnames/docs/welcome-edge-hn-editor).**\n",
    "\n",
    "Run the following command. It will generate a random name and create an edge hostname."
   ]
  },
  {
   "cell_type": "code",
   "execution_count": null,
   "metadata": {
    "vscode": {
     "languageId": "shellscript"
    }
   },
   "outputs": [],
   "source": [
    "# Click the play button on the left, or enter Ctrl+Alt+Enter.\n",
    "../src/createEdgehostname.sh"
   ]
  },
  {
   "attachments": {},
   "cell_type": "markdown",
   "metadata": {},
   "source": [
    "> <br/> **Note:** You can find more information on these hostnames at the following links.\n",
    "> <br/><br/>&nbsp;&nbsp;&nbsp;&nbsp;&nbsp;&nbsp; [property name](https://techdocs.akamai.com/property-mgr/docs/key-concepts-terms#properties) \n",
    "> <br/>&nbsp;&nbsp;&nbsp;&nbsp;&nbsp;&nbsp; [property hostname](https://techdocs.akamai.com/property-mgr/docs/key-concepts-terms#types-of-hostnames)\n",
    "> <br/>&nbsp;&nbsp;&nbsp;&nbsp;&nbsp;&nbsp; [edge hostname](https://techdocs.akamai.com/property-mgr/docs/key-concepts-terms#types-of-hostnames).\n",
    "> <br/><br/>\n",
    "\n",
    "\n",
    "**4.2. Create a new [property](https://techdocs.akamai.com/property-mgr/docs/key-concepts-terms#properties).**\n",
    "\n",
    "Let's use [Akamai cli-onboard](https://github.com/akamai/cli-onboard) to create a property. It is pre-installed on your workspace. Run the following command to verify your cli-onboard installation."
   ]
  },
  {
   "cell_type": "code",
   "execution_count": null,
   "metadata": {
    "vscode": {
     "languageId": "shellscript"
    }
   },
   "outputs": [],
   "source": [
    "# Click the play button on the left, or enter Ctrl+Alt+Enter.\n",
    "akamai onboard --version"
   ]
  },
  {
   "attachments": {},
   "cell_type": "markdown",
   "metadata": {},
   "source": [
    "Open <mark>single.json</mark> file in *WORKSPACES > Deliver_your_first_site > src* folder. And update the file with the account information you have.\n",
    "\n",
    "> <br/> **Note:** \n",
    "> <br/><br/> &nbsp;&nbsp;&nbsp;&nbsp; \"property_info\" -> Update *contract_id, product_id, property_hostname,* and *property_origin*\n",
    "> <br/> &nbsp;&nbsp;&nbsp;&nbsp; \"edge_hostname\" -> Change *secure_by_default* to false. Update *use_existing_edge_hostname*.\n",
    "> <br/> &nbsp;&nbsp;&nbsp;&nbsp; \"update_waf_info\" -> Change *create_new_security_config* to false.\n",
    "> <br/> &nbsp;&nbsp;&nbsp;&nbsp; \"notification_emails\" -> Update it with your email address.\n",
    "><br/><br/>\n",
    " \n",
    "**Sample single.json**\n",
    "\n",
    "```json\n",
    "{\n",
    "  \"property_info\": {\n",
    "    \"contract_id\": \"ctr_1234567\",\n",
    "    \"product_id\": \"prd_Fresca\", \n",
    "    \"property_hostname\": \"123456-obnoxious-portico.akamai-lab.com\", \n",
    "    \"property_origin\": \"origin--main--12345678--a.b.akamai-lab.com\" \n",
    "  },\n",
    "  \"edge_hostname\": {\n",
    "    \"secure_by_default\": false,\n",
    "    \"use_existing_edge_hostname\": \"123456-obnoxious-portico.akamai-lab.com.edgesuite.net\",\n",
    "    \"create_from_existing_enrollment_id\": 0\n",
    "  },\n",
    "  \"update_waf_info\": {\n",
    "    \"create_new_security_config\": false,\n",
    "    \"waf_config_name\": \"\"\n",
    "  },\n",
    "  \"activate_production\": false,\n",
    "  \"notification_emails\": [\"youremail@yourdomain.com\"]\n",
    "}\n",
    "```\n",
    "<br/><br/>\n",
    "Run the following command to create a property and activate it on akamai staging network. It can take a couple of minutes."
   ]
  },
  {
   "attachments": {},
   "cell_type": "markdown",
   "metadata": {},
   "source": [
    "### **5. Test and go live.** \n",
    "We recommend that you test your property and then you can push it to production to start delivering your site through the ​Akamai​ network."
   ]
  },
  {
   "cell_type": "markdown",
   "metadata": {},
   "source": []
  }
 ],
 "metadata": {
  "kernelspec": {
   "display_name": "Bash",
   "language": "bash",
   "name": "bash"
  },
  "language_info": {
   "codemirror_mode": "shell",
   "file_extension": ".sh",
   "mimetype": "text/x-sh",
   "name": "bash"
  },
  "orig_nbformat": 4
 },
 "nbformat": 4,
 "nbformat_minor": 2
}
