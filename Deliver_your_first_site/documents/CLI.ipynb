{
 "cells": [
  {
   "attachments": {},
   "cell_type": "markdown",
   "metadata": {},
   "source": [
    "# **Onboard your web site using CLI**\n",
    "[Akamai CLI](https://github.com/akamai/cli) is pre-installed with the following packages on this workspace.\n",
    "* [property-manager](https://github.com/akamai/cli-property-manager)\n",
    "* [onboard](https://github.com/akamai/cli-onboard)\n",
    "\n",
    "### **1. Get access.**  \n",
    "\n",
    "**1.1. Find your account information.**\n",
    "\n",
    "We provided you with temporary account information when you started this learning course at [Learn Akamai](https://training.akamai.com).\n",
    "<br/><br>\n",
    "*screenshot placeholder*\n",
    "<br/><br/>\n",
    "If you don't have that information, go back to [Learn Akamai](https://training.akamai.com) and request a new information.\n",
    "<br/><br/>\n",
    "\n",
    "**1.2. Update <mark>edgerc.config</mark> file.**\n",
    "\n",
    "Open <mark>edgerc.config</mark> file in *WORKSPACES > Deliver_your_first_site > documents* folder.\n",
    "<br/><br>\n",
    "*screenshot placeholder*\n",
    "<br/><br/>\n",
    "Copy and paste your API credential as shown below.\n",
    "<br/><br>\n",
    "*screenshot placeholder*\n",
    "<br/><br/>\n",
    "\n",
    "**1.3. Verify your account information.**\n",
    "\n",
    "Run the following command. If you can see your Contract ID on the outputs, you are good to go."
   ]
  },
  {
   "cell_type": "code",
   "execution_count": 10,
   "metadata": {
    "vscode": {
     "languageId": "shellscript"
    }
   },
   "outputs": [
    {
     "name": "stdout",
     "output_type": "stream",
     "text": [
      "╒═══════════════╤════════════════════╕\n",
      "│\"Contract ID\"  │\"Contract Type Name\"│\n",
      "╞═══════════════╪════════════════════╡\n",
      "│\"ctr_V-41DUHPB\"│\"DIRECT_CUSTOMER\"   │\n",
      "└───────────────┴────────────────────┘\n"
     ]
    }
   ],
   "source": [
    "# Click the play button on the left, or enter Ctrl+Alt+Enter.\n",
    "akamai property-manager list-contracts"
   ]
  },
  {
   "attachments": {},
   "cell_type": "markdown",
   "metadata": {},
   "source": [
    "### **2. Get your certificate.** \n",
    "\n",
    "We will skip this phase for simplicity. Your web site will support HTTP only. If you want to learn more on get certificates via CLI, visit [akamai cli-cps](https://github.com/akamai/cli-cps).\n",
    "\n",
    "### **3. Ready your origin server.** \n",
    "\n",
    "Open a new browser tab and copy and paste your origin web server URL.\n",
    "\n",
    "<br/><br/>\n",
    "*screenshot placeholder*\n",
    "<br/><br/>\n",
    "\n",
    "### **4. Define your property.** \n",
    "\n",
    "**4.1. Create an [edge hostname](https://techdocs.akamai.com/edge-hostnames/docs/welcome-edge-hn-editor).**\n",
    "\n",
    "Run the following command. It will generate a random name for you to create an edge hostname."
   ]
  },
  {
   "cell_type": "code",
   "execution_count": 13,
   "metadata": {
    "vscode": {
     "languageId": "shellscript"
    }
   },
   "outputs": [
    {
     "name": "stdout",
     "output_type": "stream",
     "text": [
      "Your edge hostname: 92995-amicable-array.akamai-lab.com.edgesuite.net\n",
      "Please use $eh_name variable\n"
     ]
    }
   ],
   "source": [
    "# Click the play button on the left, or enter Ctrl+Alt+Enter.\n",
    "../src/createName.sh"
   ]
  },
  {
   "attachments": {},
   "cell_type": "markdown",
   "metadata": {},
   "source": [
    "Run the following command. It will create your edge hostname."
   ]
  },
  {
   "cell_type": "code",
   "execution_count": 29,
   "metadata": {
    "vscode": {
     "languageId": "shellscript"
    }
   },
   "outputs": [
    {
     "name": "stdout",
     "output_type": "stream",
     "text": [
      "edge hostname= 204226-speedy-ball.akamai-lab.com.edgesuite.net\n",
      "prefix= 204226-speedy-ball\n",
      "\u001b[32mPOST\u001b[39;49;00m \u001b[04m\u001b[36m/papi/v1/edgehostnames?contractId=ctr_V-41DUHPB&groupId=grp_232865\u001b[39;49;00m \u001b[34mHTTP\u001b[39;49;00m/\u001b[34m1.1\u001b[39;49;00m\n",
      "\u001b[36mAccept\u001b[39;49;00m: application/json, */*;q=0.5\n",
      "\u001b[36mAccept-Encoding\u001b[39;49;00m: gzip, deflate\n",
      "\u001b[36mAuthorization\u001b[39;49;00m: EG1-HMAC-SHA256 client_token=akab-j3e2eqcpimvzhd2n-5jyexn4eqn7yzwlc;access_token=akab-tspktyudtkthiblu-6pedlonweipq5jpp;timestamp=20230411T14:17:55+0000;nonce=5a601ff7-2f82-46b5-9852-f74e11e7a001;signature=zm6NkVGxP21SD7gtvAIHMv/KHREfq1yKe4giKAMiGU8=\n",
      "\u001b[36mConnection\u001b[39;49;00m: keep-alive\n",
      "\u001b[36mContent-Length\u001b[39;49;00m: 157\n",
      "\u001b[36mContent-Type\u001b[39;49;00m: application/json\n",
      "\u001b[36mHost\u001b[39;49;00m: akab-iateral64b7q2mtp-uhlpwx747q6d5hsk.luna.akamaiapis.net\n",
      "\u001b[36mUser-Agent\u001b[39;49;00m: HTTPie/3.2.1\n",
      "\n",
      "{\u001b[37m\u001b[39;49;00m\n",
      "\u001b[37m    \u001b[39;49;00m\u001b[94m\"domainPrefix\"\u001b[39;49;00m:\u001b[37m \u001b[39;49;00m\u001b[33m\"204226-speedy-ball\"\u001b[39;49;00m,\u001b[37m\u001b[39;49;00m\n",
      "\u001b[37m    \u001b[39;49;00m\u001b[94m\"domainSuffix\"\u001b[39;49;00m:\u001b[37m \u001b[39;49;00m\u001b[33m\"edgesuite.net\"\u001b[39;49;00m,\u001b[37m\u001b[39;49;00m\n",
      "\u001b[37m    \u001b[39;49;00m\u001b[94m\"ipVersionBehavior\"\u001b[39;49;00m:\u001b[37m \u001b[39;49;00m\u001b[33m\"IPV6_COMPLIANCE\"\u001b[39;49;00m,\u001b[37m\u001b[39;49;00m\n",
      "\u001b[37m    \u001b[39;49;00m\u001b[94m\"productId\"\u001b[39;49;00m:\u001b[37m \u001b[39;49;00m\u001b[33m\"prd_Fresca\"\u001b[39;49;00m\u001b[37m\u001b[39;49;00m\n",
      "}\u001b[37m\u001b[39;49;00m\n",
      "\n",
      "\n",
      "\u001b[34mHTTP\u001b[39;49;00m/\u001b[34m1.1\u001b[39;49;00m \u001b[34m201\u001b[39;49;00m \u001b[36mCreated\u001b[39;49;00m\n",
      "\u001b[36mConnection\u001b[39;49;00m: keep-alive\n",
      "\u001b[36mContent-Encoding\u001b[39;49;00m: gzip\n",
      "\u001b[36mContent-Length\u001b[39;49;00m: 125\n",
      "\u001b[36mContent-Type\u001b[39;49;00m: application/json;charset=UTF-8\n",
      "\u001b[36mDate\u001b[39;49;00m: Tue, 11 Apr 2023 14:17:56 GMT\n",
      "\u001b[36mLocation\u001b[39;49;00m: https://akab-iateral64b7q2mtp-uhlpwx747q6d5hsk.luna.akamaiapis.net/papi/v1/edgehostnames/ehn_5326431?contractId=ctr_V-41DUHPB&groupId=grp_232865\n",
      "\u001b[36mServer\u001b[39;49;00m: nginx\n",
      "\u001b[36mVary\u001b[39;49;00m: accept-encoding\n",
      "\u001b[36mpapi-cache-status\u001b[39;49;00m: CACHE_MISS\n",
      "\u001b[36mx-ids-session-id\u001b[39;49;00m: e0ac424c-7859-4f94-a3fb-ce083e30c56f, e0ac424c-7859-4f94-a3fb-ce083e30c56f\n",
      "\u001b[36mx-limit-edgehostnames-per-contract-limit\u001b[39;49;00m: 1000\n",
      "\u001b[36mx-limit-edgehostnames-per-contract-remaining\u001b[39;49;00m: 987\n",
      "\u001b[36mx-trace-id\u001b[39;49;00m: e53f64356c131b29\n",
      "\n",
      "{\u001b[37m\u001b[39;49;00m\n",
      "\u001b[37m    \u001b[39;49;00m\u001b[94m\"edgeHostnameLink\"\u001b[39;49;00m:\u001b[37m \u001b[39;49;00m\u001b[33m\"/papi/v1/edgehostnames/ehn_5326431?contractId=ctr_V-41DUHPB&groupId=grp_232865\"\u001b[39;49;00m\u001b[37m\u001b[39;49;00m\n",
      "}\u001b[37m\u001b[39;49;00m\n",
      "\n",
      "\n"
     ]
    }
   ],
   "source": [
    "../src/edgeHostname.sh"
   ]
  },
  {
   "cell_type": "markdown",
   "metadata": {},
   "source": [
    "\n",
    "**4.2. Create a new property.**\n",
    "\n",
    "\n",
    " to configure how you want to deliver your content with rules and behaviors.\n",
    "\n",
    "### **5. Test and go live.** \n",
    "We recommend that you test your property and then you can push it to production to start delivering your site through the ​Akamai​ network."
   ]
  },
  {
   "cell_type": "markdown",
   "metadata": {},
   "source": []
  }
 ],
 "metadata": {
  "kernelspec": {
   "display_name": "Bash",
   "language": "bash",
   "name": "bash"
  },
  "language_info": {
   "codemirror_mode": "shell",
   "file_extension": ".sh",
   "mimetype": "text/x-sh",
   "name": "bash"
  },
  "orig_nbformat": 4
 },
 "nbformat": 4,
 "nbformat_minor": 2
}
