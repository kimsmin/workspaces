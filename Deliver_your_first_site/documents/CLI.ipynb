{
 "cells": [
  {
   "attachments": {},
   "cell_type": "markdown",
   "metadata": {},
   "source": [
    "# **Onboard your web site using CLI**\n",
    "[Akamai CLI](https://github.com/akamai/cli) is pre-installed with the following packages on this workspace.\n",
    "* [property-manager](https://github.com/akamai/cli-property-manager)\n",
    "* [onboard](https://github.com/akamai/cli-onboard)\n",
    "\n",
    "### **1. Get access.**  \n",
    "\n",
    "**1.1. Find your account information.**\n",
    "\n",
    "We provided you with temporary account information when you started this learning course at [Learn Akamai](https://training.akamai.com).\n",
    "<br/><br>\n",
    "*screenshot placeholder*\n",
    "<br/><br/>\n",
    "If you don't have that information, go back to [Learn Akamai](https://training.akamai.com) and request a new information.\n",
    "<br/><br/>\n",
    "\n",
    "**1.2. Update credential.txt file.**\n",
    "\n",
    "Open <mark>credential.txt</mark> file in *WORKSPACES > Deliver_your_first_site* folder.\n",
    "<br/><br>\n",
    "*screenshot placeholder*\n",
    "<br/><br/>\n",
    "Copy and paste your API credential as shown below.\n",
    "<br/><br>\n",
    "*screenshot placeholder*\n",
    "<br/><br/>\n",
    "Run the following command. It will copy the credential.txt to your home directory, and rename it to .<mark>edgerc</mark>."
   ]
  },
  {
   "cell_type": "code",
   "execution_count": 9,
   "metadata": {
    "vscode": {
     "languageId": "shellscript"
    }
   },
   "outputs": [
    {
     "name": "stdout",
     "output_type": "stream",
     "text": [
      "[default]\n",
      "client_secret = 6K4QRJLQ7EBqMj6NFHnf/l4/6Xwar9wueX7X4EL3ZVk=\n",
      "host = akab-iateral64b7q2mtp-uhlpwx747q6d5hsk.luna.akamaiapis.net\n",
      "access_token = akab-tspktyudtkthiblu-6pedlonweipq5jpp\n",
      "client_token = akab-wz7cik3diqlplq4g-ks7cgz3o42mmafqz\n",
      "\n",
      "[papi]\n",
      "client_secret = 6K4QRJLQ7EBqMj6NFHnf/l4/6Xwar9wueX7X4EL3ZVk=\n",
      "host = akab-iateral64b7q2mtp-uhlpwx747q6d5hsk.luna.akamaiapis.net\n",
      "access_token = akab-tspktyudtkthiblu-6pedlonweipq5jpp\n",
      "client_token = akab-wz7cik3diqlplq4g-ks7cgz3o42mmafqz\n"
     ]
    }
   ],
   "source": [
    "# Click the play button on the left, or enter Ctrl+Alt+Enter.\n",
    "cp ../credential.txt ~/.edgerc\n",
    "cat ~/.edgerc"
   ]
  },
  {
   "cell_type": "markdown",
   "metadata": {},
   "source": [
    "\n",
    "**1.3. Verify your account information.**\n",
    "\n",
    "Run the following command. If you can see your Contract ID on the outputs, you are good to go."
   ]
  },
  {
   "cell_type": "code",
   "execution_count": 11,
   "metadata": {
    "vscode": {
     "languageId": "shellscript"
    }
   },
   "outputs": [
    {
     "name": "stdout",
     "output_type": "stream",
     "text": [
      "╒═══════════════╤════════════════════╕\n",
      "│\"Contract ID\"  │\"Contract Type Name\"│\n",
      "╞═══════════════╪════════════════════╡\n",
      "│\"ctr_V-41DUHPB\"│\"DIRECT_CUSTOMER\"   │\n",
      "└───────────────┴────────────────────┘\n"
     ]
    }
   ],
   "source": [
    "# Click the play button on the left, or enter Ctrl+Alt+Enter.\n",
    "akamai property-manager list-contracts"
   ]
  },
  {
   "attachments": {},
   "cell_type": "markdown",
   "metadata": {},
   "source": [
    "### **2. Get your certificate.** \n",
    "\n",
    "We will skip this phase for simplicity. Your web site will support HTTP only. If you want to learn more on getting certificates via CLI, visit [akamai cli-cps](https://github.com/akamai/cli-cps).\n",
    "\n",
    "### **3. Ready your origin server.** \n",
    "\n",
    "Open a new browser tab and copy and paste your origin web server URL.\n",
    "\n",
    "<br/><br/>\n",
    "*screenshot placeholder*\n",
    "<br/><br/>\n",
    "\n",
    "### **4. Define your property.** \n",
    "\n",
    "**4.1. Create an [edge hostname](https://techdocs.akamai.com/edge-hostnames/docs/welcome-edge-hn-editor).**\n",
    "\n",
    "Run the following command. It will generate a random name and create an edge hostname."
   ]
  },
  {
   "cell_type": "code",
   "execution_count": 30,
   "metadata": {
    "vscode": {
     "languageId": "shellscript"
    }
   },
   "outputs": [
    {
     "name": "stdout",
     "output_type": "stream",
     "text": [
      "# edge hostname is created.\n",
      "# Please save these values. You will use them when you create a new property.\n",
      "property_name = 862874-obnoxious-portico.akamai-lab.com\n",
      "property_hostname = 862874-obnoxious-portico.akamai-lab.com\n",
      "edge_hostname = 862874-obnoxious-portico.akamai-lab.com.edgesuite.net\n"
     ]
    }
   ],
   "source": [
    "# Click the play button on the left, or enter Ctrl+Alt+Enter.\n",
    "../src/createEdgehostname.sh"
   ]
  },
  {
   "attachments": {},
   "cell_type": "markdown",
   "metadata": {},
   "source": [
    "> <br/> **Note:** You can find more information on these hostnames at the following links.\n",
    "> <br/><br/>&nbsp;&nbsp;&nbsp;&nbsp;&nbsp;&nbsp; [property name](https://techdocs.akamai.com/property-mgr/docs/key-concepts-terms#properties) \n",
    "> <br/>&nbsp;&nbsp;&nbsp;&nbsp;&nbsp;&nbsp; [property hostname](https://techdocs.akamai.com/property-mgr/docs/key-concepts-terms#types-of-hostnames)\n",
    "> <br/>&nbsp;&nbsp;&nbsp;&nbsp;&nbsp;&nbsp; [edge hostname](https://techdocs.akamai.com/property-mgr/docs/key-concepts-terms#types-of-hostnames).\n",
    "> <br/><br/>\n",
    "\n",
    "\n",
    "**4.2. Create a new [property](https://techdocs.akamai.com/property-mgr/docs/key-concepts-terms#properties).**\n",
    "\n",
    "Let's use [Akamai cli-onboard](https://github.com/akamai/cli-onboard) to create a property. It is pre-installed on your workspace. Run the following command to verify your cli-onboard installation."
   ]
  },
  {
   "cell_type": "code",
   "execution_count": 32,
   "metadata": {
    "vscode": {
     "languageId": "shellscript"
    }
   },
   "outputs": [
    {
     "name": "stdout",
     "output_type": "stream",
     "text": [
      "\n",
      "akamai onboard, version 2.2.0\n"
     ]
    }
   ],
   "source": [
    "# Click the play button on the left, or enter Ctrl+Alt+Enter.\n",
    "akamai onboard --version"
   ]
  },
  {
   "attachments": {},
   "cell_type": "markdown",
   "metadata": {},
   "source": [
    "Open <mark>single.json</mark> file in *WORKSPACES > Deliver_your_first_site > src* folder. And update the file with the account information you have.\n",
    "\n",
    "> <br/> **Note:** \n",
    "> <br/><br/> &nbsp;&nbsp;&nbsp;&nbsp; \"property_info\" -> Update *contract_id, product_id, property_hostname,* and *property_origin*\n",
    "> <br/> &nbsp;&nbsp;&nbsp;&nbsp; \"edge_hostname\" -> Change *secure_by_default* to false. Update *use_existing_edge_hostname*.\n",
    "> <br/> &nbsp;&nbsp;&nbsp;&nbsp; \"update_waf_info\" -> Change *create_new_security_config* to false.\n",
    "> <br/> &nbsp;&nbsp;&nbsp;&nbsp; \"notification_emails\" -> Update it with your email address.\n",
    "><br/><br/>\n",
    " \n",
    "**Sample single.json**\n",
    "\n",
    "```json\n",
    "{\n",
    "  \"property_info\": {\n",
    "    \"contract_id\": \"ctr_1234567\",\n",
    "    \"product_id\": \"prd_Fresca\", \n",
    "    \"property_hostname\": \"123456-obnoxious-portico.akamai-lab.com\", \n",
    "    \"property_origin\": \"origin--main--12345678--a.b.akamai-lab.com\" \n",
    "  },\n",
    "  \"edge_hostname\": {\n",
    "    \"secure_by_default\": false,\n",
    "    \"use_existing_edge_hostname\": \"123456-obnoxious-portico.akamai-lab.com.edgesuite.net\",\n",
    "    \"create_from_existing_enrollment_id\": 0\n",
    "  },\n",
    "  \"update_waf_info\": {\n",
    "    \"create_new_security_config\": false,\n",
    "    \"waf_config_name\": \"\"\n",
    "  },\n",
    "  \"activate_production\": false,\n",
    "  \"notification_emails\": [\"youremail@yourdomain.com\"]\n",
    "}\n",
    "```\n",
    "<br/><br/>\n",
    "Run the following command to create a property."
   ]
  },
  {
   "cell_type": "code",
   "execution_count": 4,
   "metadata": {
    "vscode": {
     "languageId": "shellscript"
    }
   },
   "outputs": [
    {
     "name": "stdout",
     "output_type": "stream",
     "text": [
      "\n",
      "\u001b[1;30mINFO   :\u001b[0m Start Akamai CLI onboard\n",
      "\u001b[1;30mINFO   :\u001b[0m Successfully read ../src/single.json\n",
      "\u001b[1;30mINFO   :\u001b[0m setup= <onboard_single_host.onboard object at 0x7f48a954e250>\n",
      "Traceback (most recent call last):\n",
      "  File \"/home/coder/.akamai-cli/src/cli-onboard/bin/akamai-onboard.py\", line 751, in <module>\n",
      "    status = cli(prog_name='akamai onboard')\n",
      "             ^^^^^^^^^^^^^^^^^^^^^^^^^^^^^^^\n",
      "  File \"/home/coder/.akamai-cli/venv/cli-onboard/lib/python3.11/site-packages/click/core.py\", line 829, in __call__\n",
      "    return self.main(*args, **kwargs)\n",
      "           ^^^^^^^^^^^^^^^^^^^^^^^^^^\n",
      "  File \"/home/coder/.akamai-cli/venv/cli-onboard/lib/python3.11/site-packages/click/core.py\", line 782, in main\n",
      "    rv = self.invoke(ctx)\n",
      "         ^^^^^^^^^^^^^^^^\n",
      "  File \"/home/coder/.akamai-cli/venv/cli-onboard/lib/python3.11/site-packages/click/core.py\", line 1259, in invoke\n",
      "    return _process_result(sub_ctx.command.invoke(sub_ctx))\n",
      "                           ^^^^^^^^^^^^^^^^^^^^^^^^^^^^^^^\n",
      "  File \"/home/coder/.akamai-cli/venv/cli-onboard/lib/python3.11/site-packages/click/core.py\", line 1066, in invoke\n",
      "    return ctx.invoke(self.callback, **ctx.params)\n",
      "           ^^^^^^^^^^^^^^^^^^^^^^^^^^^^^^^^^^^^^^^\n",
      "  File \"/home/coder/.akamai-cli/venv/cli-onboard/lib/python3.11/site-packages/click/core.py\", line 610, in invoke\n",
      "    return callback(*args, **kwargs)\n",
      "           ^^^^^^^^^^^^^^^^^^^^^^^^^\n",
      "  File \"/home/coder/.akamai-cli/venv/cli-onboard/lib/python3.11/site-packages/click/decorators.py\", line 73, in new_func\n",
      "    return ctx.invoke(f, obj, *args, **kwargs)\n",
      "           ^^^^^^^^^^^^^^^^^^^^^^^^^^^^^^^^^^^\n",
      "  File \"/home/coder/.akamai-cli/venv/cli-onboard/lib/python3.11/site-packages/click/core.py\", line 610, in invoke\n",
      "    return callback(*args, **kwargs)\n",
      "           ^^^^^^^^^^^^^^^^^^^^^^^^^\n",
      "  File \"/home/coder/.akamai-cli/src/cli-onboard/bin/akamai-onboard.py\", line 315, in single_host\n",
      "    setup.notification_emails, setup.group_id)\n",
      "                               ^^^^^^^^^^^^^^\n",
      "AttributeError: 'onboard' object has no attribute 'group_id'\n"
     ]
    },
    {
     "ename": "",
     "evalue": "1",
     "output_type": "error",
     "traceback": []
    }
   ],
   "source": [
    "# Click the play button on the left, or enter Ctrl+Alt+Enter.\n",
    "akamai onboard --section default single-host -f ../src/single.json"
   ]
  },
  {
   "cell_type": "markdown",
   "metadata": {},
   "source": [
    "\n",
    "\n",
    " to configure how you want to deliver your content with rules and behaviors.\n",
    "\n",
    "### **5. Test and go live.** \n",
    "We recommend that you test your property and then you can push it to production to start delivering your site through the ​Akamai​ network."
   ]
  },
  {
   "cell_type": "markdown",
   "metadata": {},
   "source": []
  }
 ],
 "metadata": {
  "kernelspec": {
   "display_name": "Bash",
   "language": "bash",
   "name": "bash"
  },
  "language_info": {
   "codemirror_mode": "shell",
   "file_extension": ".sh",
   "mimetype": "text/x-sh",
   "name": "bash"
  },
  "orig_nbformat": 4
 },
 "nbformat": 4,
 "nbformat_minor": 2
}
