{
 "cells": [
  {
   "attachments": {},
   "cell_type": "markdown",
   "metadata": {},
   "source": [
    "# Lab 1. Getting Started With Akamai API"
   ]
  },
  {
   "attachments": {},
   "cell_type": "markdown",
   "metadata": {},
   "source": [
    "## #Before You Start\n",
    "Commands on this document are executable. You can run them by clicking ![play](./img/play.png) button or pressing <span style=\"color:cyan;font-weight:700\">Ctr+Alt+Enter</span>.\n",
    "<br/><br/>\n",
    "Watch this video and try the <span style=\"color:cyan;font-weight:700\">tree</span> command below. You can also clear the command outputs.\n",
    "\n",
    "<video width=\"60%\" height=\"60%\" controls autoplay>\n",
    "<source src=\"./img/labguide1.mp4\" type=\"video/mp4\">\n",
    "Your browser does not support the video tag.\n",
    "</video>"
   ]
  },
  {
   "cell_type": "code",
   "execution_count": null,
   "metadata": {
    "vscode": {
     "languageId": "shellscript"
    }
   },
   "outputs": [],
   "source": [
    "# Run this command.\n",
    "tree"
   ]
  },
  {
   "attachments": {},
   "cell_type": "markdown",
   "metadata": {},
   "source": [
    "## #Python\n",
    "[Python](https://www.python.org/) is a programming language that you can use to manage your Akamai services.\n",
    "1. Install the [EdgeGrid authentication for Python](https://github.com/akamai/AkamaiOPEN-edgegrid-python) by running the following command."
   ]
  },
  {
   "cell_type": "code",
   "execution_count": null,
   "metadata": {
    "vscode": {
     "languageId": "shellscript"
    }
   },
   "outputs": [],
   "source": [
    "pip3 install edgegrid-httpie"
   ]
  },
  {
   "attachments": {},
   "cell_type": "markdown",
   "metadata": {},
   "source": [
    "\n",
    "2. Open ***first_api.py*** file and ***credential.txt*** file on the left **EXPLORE** view. They are in ***learnakamai > workspaces > lab1*** directory. \n",
    "<br/><br/>\n",
    "\n",
    "3. Edit ***first_api.py*** file with the following variables from ***credential.txt*** file.\n",
    "    - base\n",
    "    - client_secret\n",
    "    - access_token\n",
    "    - client_token\n",
    "<br/><br/>\n",
    "\n",
    "\n",
    "4. Run ***first_api.py*** file by running the following command. You will see a response that shows your contract ID."
   ]
  },
  {
   "cell_type": "code",
   "execution_count": null,
   "metadata": {
    "vscode": {
     "languageId": "shellscript"
    }
   },
   "outputs": [],
   "source": [
    "python3 first_api.py"
   ]
  },
  {
   "attachments": {},
   "cell_type": "markdown",
   "metadata": {},
   "source": [
    "## #HTTPie\n",
    "[HTTPie](https://httpie.io/) is a simple command-line client you can use to make Akamai API calls.\n",
    "\n",
    "1. Install **HTTPie** and upgrade it to the most recent version by running the following command."
   ]
  },
  {
   "cell_type": "code",
   "execution_count": null,
   "metadata": {
    "vscode": {
     "languageId": "shellscript"
    }
   },
   "outputs": [],
   "source": [
    "pip3 install --upgrade httpie"
   ]
  },
  {
   "attachments": {},
   "cell_type": "markdown",
   "metadata": {},
   "source": [
    "2. Install [httpie-edgegrid](https://github.com/akamai/httpie-edgegrid) plugin by running the following command."
   ]
  },
  {
   "cell_type": "code",
   "execution_count": null,
   "metadata": {
    "vscode": {
     "languageId": "shellscript"
    }
   },
   "outputs": [],
   "source": [
    "pip3 install httpie-edgegrid"
   ]
  },
  {
   "attachments": {},
   "cell_type": "markdown",
   "metadata": {},
   "source": [
    "3. Verify the installation and check the version by running the following command."
   ]
  },
  {
   "cell_type": "code",
   "execution_count": null,
   "metadata": {
    "vscode": {
     "languageId": "shellscript"
    }
   },
   "outputs": [],
   "source": [
    "pip3 show httpie-edgegrid"
   ]
  },
  {
   "attachments": {},
   "cell_type": "markdown",
   "metadata": {},
   "source": [
    "4. Create [edgerc](https://techdocs.akamai.com/developer/docs/authenticate-with-edgegrid) file in your home directory by running the following command."
   ]
  },
  {
   "cell_type": "code",
   "execution_count": null,
   "metadata": {
    "vscode": {
     "languageId": "shellscript"
    }
   },
   "outputs": [],
   "source": [
    "cp credential.txt ~/.edgerc"
   ]
  },
  {
   "attachments": {},
   "cell_type": "markdown",
   "metadata": {},
   "source": [
    "5. Request the locations of servers in the Akamai network that can run the [Edge Diagnostic tools](https://techdocs.akamai.com/edge-diagnostics/docs). The <mark>200 OK response</mark> will show the location results."
   ]
  },
  {
   "cell_type": "code",
   "execution_count": null,
   "metadata": {
    "vscode": {
     "languageId": "shellscript"
    }
   },
   "outputs": [],
   "source": [
    "http -pb --auth-type=edgegrid -a default: :/edge-diagnostics/v1/edge-locations"
   ]
  },
  {
   "attachments": {},
   "cell_type": "markdown",
   "metadata": {},
   "source": [
    "Here is a video demonstration of the process to make API calls with HTTPie.\n",
    "\n",
    "<iframe width=\"512\" height=\"288\" src=\"https://www.youtube.com/embed/SQbeJgO_jD0\" title=\"Getting Started with Akamai APIs using HTTPie\" frameborder=\"0\" allow=\"accelerometer; autoplay; clipboard-write; encrypted-media; gyroscope; picture-in-picture; web-share\" allowfullscreen></iframe>"
   ]
  }
 ],
 "metadata": {
  "kernelspec": {
   "display_name": "Bash",
   "language": "bash",
   "name": "bash"
  },
  "language_info": {
   "codemirror_mode": "shell",
   "file_extension": ".sh",
   "mimetype": "text/x-sh",
   "name": "bash"
  },
  "orig_nbformat": 4
 },
 "nbformat": 4,
 "nbformat_minor": 2
}
